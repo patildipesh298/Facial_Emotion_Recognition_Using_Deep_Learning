{
 "cells": [
  {
   "cell_type": "code",
   "execution_count": 1,
   "metadata": {},
   "outputs": [],
   "source": [
    "import os\n",
    "import cv2\n",
    "import numpy as np\n",
    "from PIL import Image\n",
    "from keras.utils import to_categorical\n",
    "from keras.models import Model, Sequential\n",
    "from sklearn.utils import shuffle\n",
    "from sklearn.model_selection import train_test_split\n",
    "import h5py\n",
    "from matplotlib import pyplot as plt\n",
    "from PIL import Image\n",
    "from time import time\n",
    "import logging\n",
    "import matplotlib.pyplot as plt\n",
    "from sklearn.model_selection import train_test_split\n",
    "from sklearn.model_selection import GridSearchCV\n",
    "from sklearn.metrics import classification_report\n",
    "from sklearn.metrics import confusion_matrix\n",
    "#from sklearn.decomposition import RandomizedPCA\n",
    "from sklearn.decomposition import PCA\n",
    "from sklearn.svm import SVC\n"
   ]
  },
  {
   "cell_type": "code",
   "execution_count": 2,
   "metadata": {},
   "outputs": [],
   "source": [
    "ck_data = h5py.File('C:/Users/Student/Desktop/Facial_Emotion_Detection/FER-2013/data.h5', 'r', driver='core')\n",
    "X_data = np.expand_dims(np.asarray(ck_data['data_pixel']), axis=-1)\n",
    "X_data = X_data.reshape((981,48*48))\n",
    "y_data = np.asarray(ck_data['data_label'])\n",
    "y_data = to_categorical(y_data)\n",
    "n_classes = y_data.shape[1] "
   ]
  },
  {
   "cell_type": "code",
   "execution_count": 3,
   "metadata": {},
   "outputs": [
    {
     "name": "stdout",
     "output_type": "stream",
     "text": [
      "<HDF5 file \"CK_data.h5\" (mode r)>\n"
     ]
    }
   ],
   "source": [
    "print(ck_data)"
   ]
  },
  {
   "cell_type": "code",
   "execution_count": 4,
   "metadata": {},
   "outputs": [
    {
     "name": "stdout",
     "output_type": "stream",
     "text": [
      "[[ 24  10  13 ... 150 153 156]\n",
      " [ 17  10  16 ... 151 153 156]\n",
      " [ 27  13  10 ... 148 152 156]\n",
      " ...\n",
      " [196 142 167 ...  59  56  42]\n",
      " [196 143 168 ...  59  56  41]\n",
      " [198 125 179 ...  59  54  40]]\n"
     ]
    }
   ],
   "source": [
    "print(X_data)"
   ]
  },
  {
   "cell_type": "code",
   "execution_count": 5,
   "metadata": {},
   "outputs": [
    {
     "name": "stdout",
     "output_type": "stream",
     "text": [
      "[[1. 0. 0. ... 0. 0. 0.]\n",
      " [1. 0. 0. ... 0. 0. 0.]\n",
      " [1. 0. 0. ... 0. 0. 0.]\n",
      " ...\n",
      " [0. 0. 0. ... 0. 0. 1.]\n",
      " [0. 0. 0. ... 0. 0. 1.]\n",
      " [0. 0. 0. ... 0. 0. 1.]]\n"
     ]
    }
   ],
   "source": [
    "print(y_data)"
   ]
  },
  {
   "cell_type": "code",
   "execution_count": 6,
   "metadata": {},
   "outputs": [
    {
     "name": "stdout",
     "output_type": "stream",
     "text": [
      "7\n"
     ]
    }
   ],
   "source": [
    "print(n_classes)"
   ]
  },
  {
   "cell_type": "code",
   "execution_count": 7,
   "metadata": {},
   "outputs": [
    {
     "name": "stdout",
     "output_type": "stream",
     "text": [
      "981\n"
     ]
    }
   ],
   "source": [
    "print(y_data.shape[0])"
   ]
  },
  {
   "cell_type": "code",
   "execution_count": 8,
   "metadata": {},
   "outputs": [],
   "source": [
    "X_train, X_validation, y_train, y_validation = train_test_split(X_data, y_data, test_size=0.2,random_state=0)"
   ]
  },
  {
   "cell_type": "code",
   "execution_count": 9,
   "metadata": {},
   "outputs": [
    {
     "name": "stdout",
     "output_type": "stream",
     "text": [
      "Training:  (784, 2304)\n"
     ]
    }
   ],
   "source": [
    "print('Training: ',X_train.shape)"
   ]
  },
  {
   "cell_type": "code",
   "execution_count": 10,
   "metadata": {},
   "outputs": [
    {
     "name": "stdout",
     "output_type": "stream",
     "text": [
      "Validation:  (197, 2304)\n"
     ]
    }
   ],
   "source": [
    "print('Validation: ',X_validation.shape)"
   ]
  },
  {
   "cell_type": "code",
   "execution_count": 11,
   "metadata": {},
   "outputs": [],
   "source": [
    "n_components = 10\n",
    "pca =PCA(svd_solver='randomized',n_components=n_components,whiten=True).fit(X_train)\n",
    "\n",
    "X_train_pca = pca.transform(X_train)\n",
    "\n",
    "X_val_pca = pca.transform(X_validation) "
   ]
  },
  {
   "cell_type": "code",
   "execution_count": 12,
   "metadata": {},
   "outputs": [
    {
     "name": "stdout",
     "output_type": "stream",
     "text": [
      "[[-1.44786504 -0.24529974  0.31113507 ... -2.50971234  1.93291306\n",
      "  -0.81830948]\n",
      " [ 0.18164122  1.34082676  2.33828622 ... -1.30161502  1.53867649\n",
      "   0.67272048]\n",
      " [-0.8023423   0.0669295   1.59699669 ... -0.58969796 -0.60886943\n",
      "  -0.61756158]\n",
      " ...\n",
      " [ 0.16333901  0.6879411   0.40275641 ... -0.49347433 -1.62356854\n",
      "  -0.06686762]\n",
      " [ 0.71147754 -1.09323005  0.46577083 ... -0.21700072 -0.51738184\n",
      "   0.74079639]\n",
      " [ 1.3751698   0.14631636  2.12043461 ...  0.42164749  2.18199964\n",
      "  -0.09144526]]\n"
     ]
    }
   ],
   "source": [
    "print(X_train_pca)"
   ]
  },
  {
   "cell_type": "code",
   "execution_count": 13,
   "metadata": {},
   "outputs": [
    {
     "name": "stdout",
     "output_type": "stream",
     "text": [
      "[[-0.86294939 -1.49200176  1.2759508  ...  1.06807631  0.13134371\n",
      "  -0.36600053]\n",
      " [-1.88359735  1.39469406  0.02807465 ... -0.31716123 -1.32815829\n",
      "   0.05271656]\n",
      " [-1.48972228  1.34759063 -0.53240474 ...  0.37720742 -0.7345028\n",
      "   0.88099688]\n",
      " ...\n",
      " [-0.27925978 -0.59275815 -0.91364903 ...  0.17694067  0.60654497\n",
      "   0.28612011]\n",
      " [ 0.0210476   0.32460672 -0.34817578 ...  1.02509593 -0.9886656\n",
      "  -0.55803992]\n",
      " [ 0.82689775 -0.57126608  0.91926474 ... -0.50794732 -0.45753616\n",
      "   0.60937724]]\n"
     ]
    }
   ],
   "source": [
    "print(X_val_pca)"
   ]
  },
  {
   "cell_type": "code",
   "execution_count": 14,
   "metadata": {},
   "outputs": [
    {
     "name": "stdout",
     "output_type": "stream",
     "text": [
      "[[171 189 164 ...  35  42 109]\n",
      " [ 90 107 235 ...  88  96  77]\n",
      " [101 104  94 ...  77  77  77]\n",
      " ...\n",
      " [ 86  87  87 ...  89  89  88]\n",
      " [ 36  38  25 ...   1   3  10]\n",
      " [255 255 244 ...  23  19  13]]\n"
     ]
    }
   ],
   "source": [
    "print(X_train)\n"
   ]
  },
  {
   "cell_type": "code",
   "execution_count": 15,
   "metadata": {},
   "outputs": [],
   "source": [
    "eigenfaces = pca.components_.reshape((n_components, 48, 48))"
   ]
  },
  {
   "cell_type": "code",
   "execution_count": 16,
   "metadata": {},
   "outputs": [],
   "source": [
    "def plot_gallery(images, titles, h, w, n_row=3, n_col=3):\n",
    "    \"\"\"Helper function to plot a gallery of portraits\"\"\"\n",
    "    plt.figure(figsize=(1.8 * n_col, 2.4 * n_row))\n",
    "    plt.subplots_adjust(bottom=0, left=.01, right=.99, top=.90, hspace=.35)\n",
    "    for i in range(n_row * n_col):\n",
    "        plt.subplot(n_row, n_col, i + 1)\n",
    "        plt.imshow(images[i].reshape((h, w)), cmap=plt.cm.gray)\n",
    "        plt.title(titles[i], size=12)\n",
    "        plt.xticks(())\n",
    "        plt.yticks(())"
   ]
  },
  {
   "cell_type": "code",
   "execution_count": 17,
   "metadata": {},
   "outputs": [],
   "source": [
    "eigenface_titles = [\"eigenface %d\" % i for i in range(eigenfaces.shape[0])]"
   ]
  },
  {
   "cell_type": "code",
   "execution_count": 18,
   "metadata": {},
   "outputs": [
    {
     "data": {
      "image/png": "[encoded data removed]",
      "text/plain": [
       "<Figure size 388.8x518.4 with 9 Axes>"
      ]
     },
     "metadata": {},
     "output_type": "display_data"
    }
   ],
   "source": [
    "plot_gallery(eigenfaces, eigenface_titles, 48, 48)"
   ]
  },
  {
   "cell_type": "code",
   "execution_count": 19,
   "metadata": {},
   "outputs": [],
   "source": [
    "plt.show()"
   ]
  },
  {
   "cell_type": "code",
   "execution_count": 20,
   "metadata": {},
   "outputs": [],
   "source": [
    "y_train_ = np.argmax(y_train, axis=-1)"
   ]
  },
  {
   "cell_type": "code",
   "execution_count": 21,
   "metadata": {},
   "outputs": [
    {
     "data": {
      "text/plain": [
       "(784,)"
      ]
     },
     "execution_count": 21,
     "metadata": {},
     "output_type": "execute_result"
    }
   ],
   "source": [
    "y_train_.shape"
   ]
  },
  {
   "cell_type": "code",
   "execution_count": 22,
   "metadata": {},
   "outputs": [
    {
     "name": "stdout",
     "output_type": "stream",
     "text": [
      "Fitting the classifier to the training set\n"
     ]
    },
    {
     "name": "stderr",
     "output_type": "stream",
     "text": [
      "/usr/local/miniconda3/envs/dl/lib/python3.6/site-packages/sklearn/model_selection/_split.py:1943: FutureWarning: You should specify a value for 'cv' instead of relying on the default value. The default value will change from 3 to 5 in version 0.22.\n",
      "  warnings.warn(CV_WARNING, FutureWarning)\n"
     ]
    },
    {
     "name": "stdout",
     "output_type": "stream",
     "text": [
      "done in 6.432s\n",
      "Best estimator found by grid search:\n",
      "SVC(C=1000.0, cache_size=200, class_weight='balanced', coef0=0.0,\n",
      "  decision_function_shape='ovr', degree=3, gamma=0.1, kernel='rbf',\n",
      "  max_iter=-1, probability=False, random_state=None, shrinking=True,\n",
      "  tol=0.001, verbose=False)\n"
     ]
    },
    {
     "name": "stderr",
     "output_type": "stream",
     "text": [
      "/usr/local/miniconda3/envs/dl/lib/python3.6/site-packages/sklearn/model_selection/_search.py:841: DeprecationWarning: The default of the `iid` parameter will change from True to False in version 0.22 and will be removed in 0.24. This will change numeric results when test-set sizes are unequal.\n",
      "  DeprecationWarning)\n"
     ]
    }
   ],
   "source": [
    "print(\"Fitting the classifier to the training set\")\n",
    "t0 = time()\n",
    "param_grid = {'C': [1e3, 5e3, 1e4, 5e4, 1e5],\n",
    "              'gamma': [0.0001, 0.0005, 0.001, 0.005, 0.01, 0.1], }\n",
    "\n",
    "#class_weight='balanced'\n",
    "clf = GridSearchCV(SVC(kernel='rbf', class_weight='balanced'), param_grid)\n",
    "#防止模型过于拟合某个样本数量过大的类\n",
    "clf = clf.fit(X_train_pca, y_train_)\n",
    "print(\"done in %0.3fs\" % (time() - t0))\n",
    "print(\"Best estimator found by grid search:\")\n",
    "print(clf.best_estimator_)\n"
   ]
  },
  {
   "cell_type": "code",
   "execution_count": 23,
   "metadata": {},
   "outputs": [
    {
     "name": "stdout",
     "output_type": "stream",
     "text": [
      "Predicting people's names on the test set\n",
      "done in 0.004s\n",
      "              precision    recall  f1-score   support\n",
      "\n",
      "           0       0.95      1.00      0.98        20\n",
      "           1       0.97      1.00      0.99        34\n",
      "           2       1.00      0.81      0.90        16\n",
      "           3       0.95      1.00      0.98        41\n",
      "           4       0.94      1.00      0.97        15\n",
      "           5       1.00      0.97      0.98        58\n",
      "           6       1.00      1.00      1.00        13\n",
      "\n",
      "   micro avg       0.97      0.97      0.97       197\n",
      "   macro avg       0.97      0.97      0.97       197\n",
      "weighted avg       0.98      0.97      0.97       197\n",
      "\n",
      "[[20  0  0  0  0  0  0]\n",
      " [ 0 34  0  0  0  0  0]\n",
      " [ 1  0 13  2  0  0  0]\n",
      " [ 0  0  0 41  0  0  0]\n",
      " [ 0  0  0  0 15  0  0]\n",
      " [ 0  1  0  0  1 56  0]\n",
      " [ 0  0  0  0  0  0 13]]\n"
     ]
    }
   ],
   "source": [
    "#验证，对模型好坏进行评估\n",
    "print(\"Predicting people's names on the test set\")\n",
    "t0 = time()\n",
    "y_pred = clf.predict(X_val_pca)\n",
    "print(\"done in %0.3fs\" % (time() - t0))\n",
    "y_val = np.argmax(y_validation, axis=-1)\n",
    "#拿到分类器的report\n",
    "print(classification_report(y_val, y_pred))\n",
    "#画n*n的方格，对角线数据，表示预测正确的\n",
    "print(confusion_matrix(y_val, y_pred, labels=range(n_classes)))"
   ]
  },
  {
   "cell_type": "code",
   "execution_count": null,
   "metadata": {},
   "outputs": [],
   "source": []
  }
 ],
 "metadata": {
  "kernelspec": {
   "display_name": "Python 3 (ipykernel)",
   "language": "python",
   "name": "python3"
  },
  "language_info": {
   "codemirror_mode": {
    "name": "ipython",
    "version": 3
   },
   "file_extension": ".py",
   "mimetype": "text/x-python",
   "name": "python",
   "nbconvert_exporter": "python",
   "pygments_lexer": "ipython3",
   "version": "3.9.12"
  }
 },
 "nbformat": 4,
 "nbformat_minor": 2
}
