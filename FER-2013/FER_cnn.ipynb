{
 "cells": [
  {
   "cell_type": "code",
   "execution_count": 1,
   "metadata": {},
   "outputs": [],
   "source": [
    "import os\n",
    "import cv2\n",
    "import numpy as np\n",
    "import h5py\n",
    "import keras\n",
    "from PIL import Image\n",
    "from matplotlib import pyplot as plt\n",
    "from sklearn.utils import shuffle\n",
    "from sklearn.model_selection import train_test_split\n",
    "from keras.applications.vgg16 import VGG16\n",
    "from keras.utils import to_categorical\n",
    "from keras.models import Model,Sequential\n",
    "from keras.layers import *"
   ]
  },
  {
   "cell_type": "code",
   "execution_count": 2,
   "metadata": {},
   "outputs": [],
   "source": [
    "emotion_labels=[\"Angry\",\"Disgust\",\"Fear\",\"Happy\",\"Sad\",\"Surprise\",\"Neutral\"]"
   ]
  },
  {
   "cell_type": "code",
   "execution_count": 3,
   "metadata": {},
   "outputs": [],
   "source": [
    "num_classes=len(emotion_labels)"
   ]
  },
  {
   "cell_type": "code",
   "execution_count": 4,
   "metadata": {},
   "outputs": [
    {
     "name": "stdout",
     "output_type": "stream",
     "text": [
      "<HDF5 file \"data.h5\" (mode r)>\n"
     ]
    }
   ],
   "source": [
    "fer_data=h5py.File('C:/Users/Student/Desktop/Facial_Emotion_Detection/FER-2013/data.h5','r',driver='core')\n",
    "print(fer_data)"
   ]
  },
  {
   "cell_type": "code",
   "execution_count": 5,
   "metadata": {},
   "outputs": [],
   "source": [
    "fer_x=np.asarray(fer_data['Training_pixel']).reshape(28709,48,48,1)"
   ]
  },
  {
   "cell_type": "code",
   "execution_count": 6,
   "metadata": {},
   "outputs": [],
   "source": [
    "fer_y=fer_data['Training_label']"
   ]
  },
  {
   "cell_type": "code",
   "execution_count": 7,
   "metadata": {},
   "outputs": [],
   "source": [
    "X_train=fer_x"
   ]
  },
  {
   "cell_type": "code",
   "execution_count": 8,
   "metadata": {},
   "outputs": [],
   "source": [
    "X_test_public=np.asarray(fer_data['PublicTest_pixel']).reshape((3589,48,48,1))"
   ]
  },
  {
   "cell_type": "code",
   "execution_count": 9,
   "metadata": {},
   "outputs": [],
   "source": [
    "X_test_private=np.asarray(fer_data['PrivateTest_pixel']).reshape((3589,48,48,1))"
   ]
  },
  {
   "cell_type": "code",
   "execution_count": 10,
   "metadata": {},
   "outputs": [],
   "source": [
    "num_train=X_train.shape[0]"
   ]
  },
  {
   "cell_type": "code",
   "execution_count": 11,
   "metadata": {},
   "outputs": [],
   "source": [
    "num_val_public=X_test_public.shape[0]"
   ]
  },
  {
   "cell_type": "code",
   "execution_count": 12,
   "metadata": {},
   "outputs": [],
   "source": [
    "num_val_private=X_test_private.shape[0]"
   ]
  },
  {
   "cell_type": "code",
   "execution_count": 13,
   "metadata": {},
   "outputs": [
    {
     "name": "stdout",
     "output_type": "stream",
     "text": [
      "Training: (28709, 48, 48, 1)\n"
     ]
    }
   ],
   "source": [
    "print('Training:',X_train.shape)"
   ]
  },
  {
   "cell_type": "code",
   "execution_count": 14,
   "metadata": {},
   "outputs": [
    {
     "name": "stdout",
     "output_type": "stream",
     "text": [
      "PublicTest: (3589, 48, 48, 1)\n"
     ]
    }
   ],
   "source": [
    "print('PublicTest:',X_test_public.shape)"
   ]
  },
  {
   "cell_type": "code",
   "execution_count": 15,
   "metadata": {},
   "outputs": [
    {
     "name": "stdout",
     "output_type": "stream",
     "text": [
      "PrivateTest: (3589, 48, 48, 1)\n"
     ]
    }
   ],
   "source": [
    "print('PrivateTest:',X_test_private.shape)"
   ]
  },
  {
   "cell_type": "code",
   "execution_count": 16,
   "metadata": {},
   "outputs": [],
   "source": [
    "Y_train=fer_data['Training_label']"
   ]
  },
  {
   "cell_type": "code",
   "execution_count": 17,
   "metadata": {},
   "outputs": [],
   "source": [
    "Y_train=to_categorical(Y_train,num_classes)"
   ]
  },
  {
   "cell_type": "code",
   "execution_count": 18,
   "metadata": {},
   "outputs": [],
   "source": [
    "Y_test_public=fer_data['PublicTest_label']"
   ]
  },
  {
   "cell_type": "code",
   "execution_count": 19,
   "metadata": {},
   "outputs": [],
   "source": [
    "Y_test_private=fer_data['PrivateTest_label']"
   ]
  },
  {
   "cell_type": "code",
   "execution_count": 20,
   "metadata": {},
   "outputs": [],
   "source": [
    "Y_test_public=to_categorical(Y_test_public,num_classes)"
   ]
  },
  {
   "cell_type": "code",
   "execution_count": 21,
   "metadata": {},
   "outputs": [],
   "source": [
    "Y_test_private=to_categorical(Y_test_private,num_classes)"
   ]
  },
  {
   "cell_type": "code",
   "execution_count": 22,
   "metadata": {},
   "outputs": [
    {
     "name": "stdout",
     "output_type": "stream",
     "text": [
      "Training: (28709, 7)\n"
     ]
    }
   ],
   "source": [
    "print('Training:',Y_train.shape)"
   ]
  },
  {
   "cell_type": "code",
   "execution_count": 23,
   "metadata": {},
   "outputs": [
    {
     "name": "stdout",
     "output_type": "stream",
     "text": [
      "PublicTest: (3589, 7)\n"
     ]
    }
   ],
   "source": [
    "print('PublicTest:',Y_test_public.shape)"
   ]
  },
  {
   "cell_type": "code",
   "execution_count": 24,
   "metadata": {},
   "outputs": [
    {
     "name": "stdout",
     "output_type": "stream",
     "text": [
      "PrivateTest: (3589, 7)\n"
     ]
    }
   ],
   "source": [
    "print('PrivateTest:',Y_test_private.shape)"
   ]
  },
  {
   "cell_type": "code",
   "execution_count": 25,
   "metadata": {},
   "outputs": [],
   "source": [
    "from keras.layers import Convolution2D,Activation,BatchNormalization,MaxPooling2D,Dropout,Dense,Flatten,AveragePooling2D"
   ]
  },
  {
   "cell_type": "code",
   "execution_count": 26,
   "metadata": {},
   "outputs": [],
   "source": [
    "from keras.models import Sequential"
   ]
  },
  {
   "cell_type": "code",
   "execution_count": 27,
   "metadata": {},
   "outputs": [],
   "source": [
    "def get_cnn_model():\n",
    "    model=Sequential()\n",
    "    \n",
    "    model.add(Convolution2D(64,(3,1),padding='same',input_shape=(48,48,1)))\n",
    "    model.add(Convolution2D(64,(1,3),padding='same'))\n",
    "    model.add(BatchNormalization())\n",
    "    model.add(Activation('relu'))\n",
    "    model.add(MaxPooling2D(pool_size=(2,2),strides=None,padding='same'))\n",
    "    model.add(Dropout(0.25))\n",
    "    \n",
    "    model.add(Convolution2D(128,(3,1),padding='same'))\n",
    "    model.add(Convolution2D(128,(1,3),padding='same'))\n",
    "    model.add(BatchNormalization())\n",
    "    model.add(Activation('relu'))\n",
    "    model.add(MaxPooling2D(pool_size=(2,2),strides=None,padding='same'))\n",
    "    model.add(Dropout(0.25))\n",
    "    \n",
    "    model.add(Convolution2D(256,(3,1),padding='same'))\n",
    "    model.add(Convolution2D(256,(1,3),padding='same'))\n",
    "    model.add(BatchNormalization())\n",
    "    model.add(Activation('relu'))\n",
    "    model.add(MaxPooling2D(pool_size=(2,2),strides=None,padding='same'))\n",
    "    model.add(Dropout(0.25))\n",
    "    \n",
    "    model.add(Convolution2D(512,(3,1),padding='same'))\n",
    "    model.add(Convolution2D(512,(1,3),padding='same'))\n",
    "    model.add(BatchNormalization())\n",
    "    model.add(Activation('relu'))\n",
    "    model.add(MaxPooling2D(pool_size=(2,2),strides=None,padding='same'))\n",
    "    model.add(Dropout(0.25))\n",
    "    \n",
    "    model.add(Flatten())\n",
    "    \n",
    "    model.add(Dense(512))\n",
    "    model.add(BatchNormalization())\n",
    "    model.add(Activation('relu'))\n",
    "    model.add(Dropout(0.25))\n",
    "    \n",
    "    model.add(Dense(7))\n",
    "    model.add(Activation('softmax'))\n",
    "    return model"
   ]
  },
  {
   "cell_type": "code",
   "execution_count": 28,
   "metadata": {},
   "outputs": [],
   "source": [
    "cnn_model=get_cnn_model()"
   ]
  },
  {
   "cell_type": "code",
   "execution_count": 29,
   "metadata": {},
   "outputs": [
    {
     "name": "stdout",
     "output_type": "stream",
     "text": [
      "Model: \"sequential\"\n",
      "_________________________________________________________________\n",
      " Layer (type)                Output Shape              Param #   \n",
      "=================================================================\n",
      " conv2d (Conv2D)             (None, 48, 48, 64)        256       \n",
      "                                                                 \n",
      " conv2d_1 (Conv2D)           (None, 48, 48, 64)        12352     \n",
      "                                                                 \n",
      " batch_normalization (BatchN  (None, 48, 48, 64)       256       \n",
      " ormalization)                                                   \n",
      "                                                                 \n",
      " activation (Activation)     (None, 48, 48, 64)        0         \n",
      "                                                                 \n",
      " max_pooling2d (MaxPooling2D  (None, 24, 24, 64)       0         \n",
      " )                                                               \n",
      "                                                                 \n",
      " dropout (Dropout)           (None, 24, 24, 64)        0         \n",
      "                                                                 \n",
      " conv2d_2 (Conv2D)           (None, 24, 24, 128)       24704     \n",
      "                                                                 \n",
      " conv2d_3 (Conv2D)           (None, 24, 24, 128)       49280     \n",
      "                                                                 \n",
      " batch_normalization_1 (Batc  (None, 24, 24, 128)      512       \n",
      " hNormalization)                                                 \n",
      "                                                                 \n",
      " activation_1 (Activation)   (None, 24, 24, 128)       0         \n",
      "                                                                 \n",
      " max_pooling2d_1 (MaxPooling  (None, 12, 12, 128)      0         \n",
      " 2D)                                                             \n",
      "                                                                 \n",
      " dropout_1 (Dropout)         (None, 12, 12, 128)       0         \n",
      "                                                                 \n",
      " conv2d_4 (Conv2D)           (None, 12, 12, 256)       98560     \n",
      "                                                                 \n",
      " conv2d_5 (Conv2D)           (None, 12, 12, 256)       196864    \n",
      "                                                                 \n",
      " batch_normalization_2 (Batc  (None, 12, 12, 256)      1024      \n",
      " hNormalization)                                                 \n",
      "                                                                 \n",
      " activation_2 (Activation)   (None, 12, 12, 256)       0         \n",
      "                                                                 \n",
      " max_pooling2d_2 (MaxPooling  (None, 6, 6, 256)        0         \n",
      " 2D)                                                             \n",
      "                                                                 \n",
      " dropout_2 (Dropout)         (None, 6, 6, 256)         0         \n",
      "                                                                 \n",
      " conv2d_6 (Conv2D)           (None, 6, 6, 512)         393728    \n",
      "                                                                 \n",
      " conv2d_7 (Conv2D)           (None, 6, 6, 512)         786944    \n",
      "                                                                 \n",
      " batch_normalization_3 (Batc  (None, 6, 6, 512)        2048      \n",
      " hNormalization)                                                 \n",
      "                                                                 \n",
      " activation_3 (Activation)   (None, 6, 6, 512)         0         \n",
      "                                                                 \n",
      " max_pooling2d_3 (MaxPooling  (None, 3, 3, 512)        0         \n",
      " 2D)                                                             \n",
      "                                                                 \n",
      " dropout_3 (Dropout)         (None, 3, 3, 512)         0         \n",
      "                                                                 \n",
      " flatten (Flatten)           (None, 4608)              0         \n",
      "                                                                 \n",
      " dense (Dense)               (None, 512)               2359808   \n",
      "                                                                 \n",
      " batch_normalization_4 (Batc  (None, 512)              2048      \n",
      " hNormalization)                                                 \n",
      "                                                                 \n",
      " activation_4 (Activation)   (None, 512)               0         \n",
      "                                                                 \n",
      " dropout_4 (Dropout)         (None, 512)               0         \n",
      "                                                                 \n",
      " dense_1 (Dense)             (None, 7)                 3591      \n",
      "                                                                 \n",
      " activation_5 (Activation)   (None, 7)                 0         \n",
      "                                                                 \n",
      "=================================================================\n",
      "Total params: 3,931,975\n",
      "Trainable params: 3,929,031\n",
      "Non-trainable params: 2,944\n",
      "_________________________________________________________________\n"
     ]
    }
   ],
   "source": [
    "cnn_model.summary()"
   ]
  },
  {
   "cell_type": "code",
   "execution_count": 30,
   "metadata": {},
   "outputs": [],
   "source": [
    "from keras.preprocessing.image import ImageDataGenerator"
   ]
  },
  {
   "cell_type": "code",
   "execution_count": 31,
   "metadata": {},
   "outputs": [],
   "source": [
    "from keras.callbacks import ModelCheckpoint,EarlyStopping,ReduceLROnPlateau"
   ]
  },
  {
   "cell_type": "code",
   "execution_count": 32,
   "metadata": {},
   "outputs": [],
   "source": [
    "from keras import backend as K"
   ]
  },
  {
   "cell_type": "code",
   "execution_count": 33,
   "metadata": {},
   "outputs": [],
   "source": [
    "def fbeta(y_true, y_pred, threshold_shift=0):\n",
    "    beta = 1\n",
    "    y_pred = K.clip(y_pred, 0, 1)\n",
    "    y_pred_bin = K.round(y_pred + threshold_shift)\n",
    "\n",
    "    tp = K.sum(K.round(y_true * y_pred_bin), axis=1) + K.epsilon()\n",
    "    fp = K.sum(K.round(K.clip(y_pred_bin - y_true, 0, 1)), axis=1)\n",
    "    fn = K.sum(K.round(K.clip(y_true - y_pred, 0, 1)), axis=1)\n",
    "\n",
    "    precision = tp / (tp + fp)\n",
    "    recall = tp / (tp + fn)\n",
    "\n",
    "    beta_squared = beta ** 2\n",
    "    return K.mean((beta_squared + 1) * (precision * recall) / (beta_squared * precision + recall + K.epsilon()))"
   ]
  },
  {
   "cell_type": "code",
   "execution_count": 34,
   "metadata": {},
   "outputs": [],
   "source": [
    "def train_cnn_model(model):\n",
    "    filepath='../opt/fer-cnn/Model.{epoch:02d}-{val_acc:.4f}.hdf5'\n",
    "    checkpointer=ModelCheckpoint(filepath,monitor='val_loss',verbose=1,save_best_only=False,mode='auto')\n",
    "    reduce_lr=ReduceLROnPlateau(monitor='val_loss',factor=0.1,patience=10,verbose=0,mode='auto',cooldown=0,min_lr=0)\n",
    "    early_stop=EarlyStopping(monitor='val_loss',min_delta=0,patience=0,verbose=0,mode='auto')\n",
    "    datagen=ImageDataGenerator(\n",
    "        featurewise_center=False,\n",
    "        samplewise_center=False,\n",
    "        featurewise_std_normalization=False,\n",
    "        samplewise_std_normalization=False,\n",
    "        zca_whitening=False,\n",
    "        rotation_range=0,\n",
    "        width_shift_range=0.0,\n",
    "        height_shift_range=0.0,\n",
    "        horizontal_flip=True,\n",
    "        vertical_flip=False,\n",
    "    )\n",
    "    \n",
    "    datagen.fit(X_train)\n",
    "    datagen.fit(X_test_public)\n",
    "    datagen.fit(X_test_private)\n",
    "    batch_size=32\n",
    "    \n",
    "    num_epochs=200\n",
    "    model.compile(loss='categorical_crossentropy',\n",
    "                      optimizer='adam',\n",
    "                 metrics=[fbeta,'acc'])\n",
    "    train_flow=datagen.flow(X_train,Y_train,batch_size=batch_size)\n",
    "    test_flow_public=datagen.flow(X_test_public,Y_test_public)\n",
    "    test_flow_private=datagen.flow(X_test_private,Y_test_private)\n",
    "    \n",
    "    history_public = model.fit_generator(train_flow,\n",
    "                    steps_per_epoch=len(X_train) / batch_size,\n",
    "                    epochs=num_epochs, \n",
    "                    verbose=1, \n",
    "                    validation_data=test_flow_public, \n",
    "                    validation_steps=len(X_test_public) / batch_size,\n",
    "                    callbacks=[checkpointer, reduce_lr, checkpointer])\n",
    "    history_private = model.fit_generator(train_flow,\n",
    "                    steps_per_epoch=len(X_train) / batch_size,\n",
    "                    epochs=num_epochs, \n",
    "                    verbose=1, \n",
    "                    validation_data=test_flow_private, \n",
    "                    validation_steps=len(X_test_private) / batch_size,\n",
    "                    callbacks=[checkpointer, reduce_lr, checkpointer])\n",
    "    return history_public,history_private,model"
   ]
  },
  {
   "cell_type": "code",
   "execution_count": null,
   "metadata": {},
   "outputs": [
    {
     "name": "stderr",
     "output_type": "stream",
     "text": [
      "C:\\Users\\Student\\AppData\\Local\\Temp\\ipykernel_11944\\152893961.py:32: UserWarning: `Model.fit_generator` is deprecated and will be removed in a future version. Please use `Model.fit`, which supports generators.\n",
      "  history_public = model.fit_generator(train_flow,\n"
     ]
    },
    {
     "name": "stdout",
     "output_type": "stream",
     "text": [
      "Epoch 1/200\n",
      "898/897 [==============================] - ETA: 0s - loss: 1.6745 - fbeta: 0.1691 - acc: 0.3676\n",
      "Epoch 1: saving model to ../opt/fer-cnn\\Model.01-0.4536.hdf5\n",
      "\n",
      "Epoch 1: saving model to ../opt/fer-cnn\\Model.01-0.4536.hdf5\n",
      "897/897 [==============================] - 444s 490ms/step - loss: 1.6745 - fbeta: 0.1691 - acc: 0.3676 - val_loss: 1.4248 - val_fbeta: 0.2898 - val_acc: 0.4536 - lr: 0.0010\n",
      "Epoch 2/200\n",
      "898/897 [==============================] - ETA: 0s - loss: 1.3637 - fbeta: 0.2786 - acc: 0.4813\n",
      "Epoch 2: saving model to ../opt/fer-cnn\\Model.02-0.4622.hdf5\n",
      "\n",
      "Epoch 2: saving model to ../opt/fer-cnn\\Model.02-0.4622.hdf5\n",
      "897/897 [==============================] - 506s 564ms/step - loss: 1.3637 - fbeta: 0.2786 - acc: 0.4813 - val_loss: 1.4187 - val_fbeta: 0.3482 - val_acc: 0.4622 - lr: 0.0010\n",
      "Epoch 3/200\n",
      "898/897 [==============================] - ETA: 0s - loss: 1.2640 - fbeta: 0.3166 - acc: 0.5200\n",
      "Epoch 3: saving model to ../opt/fer-cnn\\Model.03-0.4968.hdf5\n",
      "\n",
      "Epoch 3: saving model to ../opt/fer-cnn\\Model.03-0.4968.hdf5\n",
      "897/897 [==============================] - 489s 545ms/step - loss: 1.2640 - fbeta: 0.3166 - acc: 0.5200 - val_loss: 1.3259 - val_fbeta: 0.3351 - val_acc: 0.4968 - lr: 0.0010\n",
      "Epoch 4/200\n",
      "898/897 [==============================] - ETA: 0s - loss: 1.2094 - fbeta: 0.3477 - acc: 0.5393\n",
      "Epoch 4: saving model to ../opt/fer-cnn\\Model.04-0.5163.hdf5\n",
      "\n",
      "Epoch 4: saving model to ../opt/fer-cnn\\Model.04-0.5163.hdf5\n",
      "897/897 [==============================] - 490s 546ms/step - loss: 1.2094 - fbeta: 0.3477 - acc: 0.5393 - val_loss: 1.2747 - val_fbeta: 0.3457 - val_acc: 0.5163 - lr: 0.0010\n",
      "Epoch 5/200\n",
      "898/897 [==============================] - ETA: 0s - loss: 1.1730 - fbeta: 0.3685 - acc: 0.5547\n",
      "Epoch 5: saving model to ../opt/fer-cnn\\Model.05-0.5227.hdf5\n",
      "\n",
      "Epoch 5: saving model to ../opt/fer-cnn\\Model.05-0.5227.hdf5\n",
      "897/897 [==============================] - 503s 561ms/step - loss: 1.1730 - fbeta: 0.3685 - acc: 0.5547 - val_loss: 1.2797 - val_fbeta: 0.3738 - val_acc: 0.5227 - lr: 0.0010\n",
      "Epoch 6/200\n",
      "898/897 [==============================] - ETA: 0s - loss: 1.1353 - fbeta: 0.3902 - acc: 0.5710\n",
      "Epoch 6: saving model to ../opt/fer-cnn\\Model.06-0.5497.hdf5\n",
      "\n",
      "Epoch 6: saving model to ../opt/fer-cnn\\Model.06-0.5497.hdf5\n",
      "897/897 [==============================] - 520s 580ms/step - loss: 1.1353 - fbeta: 0.3902 - acc: 0.5710 - val_loss: 1.1904 - val_fbeta: 0.4085 - val_acc: 0.5497 - lr: 0.0010\n",
      "Epoch 7/200\n",
      "898/897 [==============================] - ETA: 0s - loss: 1.1141 - fbeta: 0.4022 - acc: 0.5791\n",
      "Epoch 7: saving model to ../opt/fer-cnn\\Model.07-0.5258.hdf5\n",
      "\n",
      "Epoch 7: saving model to ../opt/fer-cnn\\Model.07-0.5258.hdf5\n",
      "897/897 [==============================] - 496s 553ms/step - loss: 1.1141 - fbeta: 0.4022 - acc: 0.5791 - val_loss: 1.2577 - val_fbeta: 0.3774 - val_acc: 0.5258 - lr: 0.0010\n",
      "Epoch 8/200\n",
      "898/897 [==============================] - ETA: 0s - loss: 1.0929 - fbeta: 0.4186 - acc: 0.5842\n",
      "Epoch 8: saving model to ../opt/fer-cnn\\Model.08-0.5631.hdf5\n",
      "\n",
      "Epoch 8: saving model to ../opt/fer-cnn\\Model.08-0.5631.hdf5\n",
      "897/897 [==============================] - 464s 517ms/step - loss: 1.0929 - fbeta: 0.4186 - acc: 0.5842 - val_loss: 1.1423 - val_fbeta: 0.4128 - val_acc: 0.5631 - lr: 0.0010\n",
      "Epoch 9/200\n",
      "898/897 [==============================] - ETA: 0s - loss: 1.0682 - fbeta: 0.4326 - acc: 0.5961\n",
      "Epoch 9: saving model to ../opt/fer-cnn\\Model.09-0.5882.hdf5\n",
      "\n",
      "Epoch 9: saving model to ../opt/fer-cnn\\Model.09-0.5882.hdf5\n",
      "897/897 [==============================] - 445s 496ms/step - loss: 1.0682 - fbeta: 0.4326 - acc: 0.5961 - val_loss: 1.0969 - val_fbeta: 0.4650 - val_acc: 0.5882 - lr: 0.0010\n",
      "Epoch 10/200\n",
      "898/897 [==============================] - ETA: 0s - loss: 1.0468 - fbeta: 0.4450 - acc: 0.6030\n",
      "Epoch 10: saving model to ../opt/fer-cnn\\Model.10-0.5862.hdf5\n",
      "\n",
      "Epoch 10: saving model to ../opt/fer-cnn\\Model.10-0.5862.hdf5\n",
      "897/897 [==============================] - 434s 484ms/step - loss: 1.0468 - fbeta: 0.4450 - acc: 0.6030 - val_loss: 1.0813 - val_fbeta: 0.4562 - val_acc: 0.5862 - lr: 0.0010\n",
      "Epoch 11/200\n",
      "898/897 [==============================] - ETA: 0s - loss: 1.0293 - fbeta: 0.4542 - acc: 0.6060\n",
      "Epoch 11: saving model to ../opt/fer-cnn\\Model.11-0.5790.hdf5\n",
      "\n",
      "Epoch 11: saving model to ../opt/fer-cnn\\Model.11-0.5790.hdf5\n",
      "897/897 [==============================] - 428s 477ms/step - loss: 1.0293 - fbeta: 0.4542 - acc: 0.6060 - val_loss: 1.1081 - val_fbeta: 0.4521 - val_acc: 0.5790 - lr: 0.0010\n",
      "Epoch 12/200\n",
      "898/897 [==============================] - ETA: 0s - loss: 1.0099 - fbeta: 0.4704 - acc: 0.6222\n",
      "Epoch 12: saving model to ../opt/fer-cnn\\Model.12-0.5977.hdf5\n",
      "\n",
      "Epoch 12: saving model to ../opt/fer-cnn\\Model.12-0.5977.hdf5\n",
      "897/897 [==============================] - 450s 501ms/step - loss: 1.0099 - fbeta: 0.4704 - acc: 0.6222 - val_loss: 1.0617 - val_fbeta: 0.4841 - val_acc: 0.5977 - lr: 0.0010\n",
      "Epoch 13/200\n",
      "898/897 [==============================] - ETA: 0s - loss: 0.9955 - fbeta: 0.4755 - acc: 0.6222\n",
      "Epoch 13: saving model to ../opt/fer-cnn\\Model.13-0.5965.hdf5\n",
      "\n",
      "Epoch 13: saving model to ../opt/fer-cnn\\Model.13-0.5965.hdf5\n",
      "897/897 [==============================] - 447s 499ms/step - loss: 0.9955 - fbeta: 0.4755 - acc: 0.6222 - val_loss: 1.0763 - val_fbeta: 0.4433 - val_acc: 0.5965 - lr: 0.0010\n",
      "Epoch 14/200\n",
      "898/897 [==============================] - ETA: 0s - loss: 0.9718 - fbeta: 0.4917 - acc: 0.6354\n",
      "Epoch 14: saving model to ../opt/fer-cnn\\Model.14-0.5882.hdf5\n",
      "\n",
      "Epoch 14: saving model to ../opt/fer-cnn\\Model.14-0.5882.hdf5\n",
      "897/897 [==============================] - 452s 503ms/step - loss: 0.9718 - fbeta: 0.4917 - acc: 0.6354 - val_loss: 1.1142 - val_fbeta: 0.4615 - val_acc: 0.5882 - lr: 0.0010\n",
      "Epoch 15/200\n",
      "898/897 [==============================] - ETA: 0s - loss: 0.9557 - fbeta: 0.5017 - acc: 0.6393\n",
      "Epoch 15: saving model to ../opt/fer-cnn\\Model.15-0.6018.hdf5\n",
      "\n",
      "Epoch 15: saving model to ../opt/fer-cnn\\Model.15-0.6018.hdf5\n",
      "897/897 [==============================] - 476s 531ms/step - loss: 0.9557 - fbeta: 0.5017 - acc: 0.6393 - val_loss: 1.0722 - val_fbeta: 0.4957 - val_acc: 0.6018 - lr: 0.0010\n",
      "Epoch 16/200\n",
      "898/897 [==============================] - ETA: 0s - loss: 0.9403 - fbeta: 0.5093 - acc: 0.6480\n",
      "Epoch 16: saving model to ../opt/fer-cnn\\Model.16-0.5963.hdf5\n",
      "\n",
      "Epoch 16: saving model to ../opt/fer-cnn\\Model.16-0.5963.hdf5\n",
      "897/897 [==============================] - 480s 535ms/step - loss: 0.9403 - fbeta: 0.5093 - acc: 0.6480 - val_loss: 1.0887 - val_fbeta: 0.4855 - val_acc: 0.5963 - lr: 0.0010\n",
      "Epoch 17/200\n",
      "898/897 [==============================] - ETA: 0s - loss: 0.9232 - fbeta: 0.5191 - acc: 0.6525\n",
      "Epoch 17: saving model to ../opt/fer-cnn\\Model.17-0.6060.hdf5\n",
      "\n",
      "Epoch 17: saving model to ../opt/fer-cnn\\Model.17-0.6060.hdf5\n",
      "897/897 [==============================] - 480s 535ms/step - loss: 0.9232 - fbeta: 0.5191 - acc: 0.6525 - val_loss: 1.0615 - val_fbeta: 0.4986 - val_acc: 0.6060 - lr: 0.0010\n",
      "Epoch 18/200\n",
      "898/897 [==============================] - ETA: 0s - loss: 0.9065 - fbeta: 0.5311 - acc: 0.6584\n",
      "Epoch 18: saving model to ../opt/fer-cnn\\Model.18-0.6116.hdf5\n",
      "\n",
      "Epoch 18: saving model to ../opt/fer-cnn\\Model.18-0.6116.hdf5\n",
      "897/897 [==============================] - 480s 535ms/step - loss: 0.9065 - fbeta: 0.5311 - acc: 0.6584 - val_loss: 1.0294 - val_fbeta: 0.4893 - val_acc: 0.6116 - lr: 0.0010\n",
      "Epoch 19/200\n",
      "898/897 [==============================] - ETA: 0s - loss: 0.8885 - fbeta: 0.5431 - acc: 0.6659\n",
      "Epoch 19: saving model to ../opt/fer-cnn\\Model.19-0.6250.hdf5\n",
      "\n",
      "Epoch 19: saving model to ../opt/fer-cnn\\Model.19-0.6250.hdf5\n",
      "897/897 [==============================] - 482s 537ms/step - loss: 0.8885 - fbeta: 0.5431 - acc: 0.6659 - val_loss: 1.0088 - val_fbeta: 0.5267 - val_acc: 0.6250 - lr: 0.0010\n",
      "Epoch 20/200\n",
      "898/897 [==============================] - ETA: 0s - loss: 0.8660 - fbeta: 0.5573 - acc: 0.6756\n",
      "Epoch 20: saving model to ../opt/fer-cnn\\Model.20-0.6163.hdf5\n",
      "\n",
      "Epoch 20: saving model to ../opt/fer-cnn\\Model.20-0.6163.hdf5\n",
      "897/897 [==============================] - 478s 533ms/step - loss: 0.8660 - fbeta: 0.5573 - acc: 0.6756 - val_loss: 1.0323 - val_fbeta: 0.5319 - val_acc: 0.6163 - lr: 0.0010\n",
      "Epoch 21/200\n"
     ]
    },
    {
     "name": "stdout",
     "output_type": "stream",
     "text": [
      "898/897 [==============================] - ETA: 0s - loss: 0.8583 - fbeta: 0.5619 - acc: 0.6770\n",
      "Epoch 21: saving model to ../opt/fer-cnn\\Model.21-0.6007.hdf5\n",
      "\n",
      "Epoch 21: saving model to ../opt/fer-cnn\\Model.21-0.6007.hdf5\n",
      "897/897 [==============================] - 479s 534ms/step - loss: 0.8583 - fbeta: 0.5619 - acc: 0.6770 - val_loss: 1.0620 - val_fbeta: 0.4879 - val_acc: 0.6007 - lr: 0.0010\n",
      "Epoch 22/200\n",
      "898/897 [==============================] - ETA: 0s - loss: 0.8381 - fbeta: 0.5739 - acc: 0.6843\n",
      "Epoch 22: saving model to ../opt/fer-cnn\\Model.22-0.6311.hdf5\n",
      "\n",
      "Epoch 22: saving model to ../opt/fer-cnn\\Model.22-0.6311.hdf5\n",
      "897/897 [==============================] - 473s 528ms/step - loss: 0.8381 - fbeta: 0.5739 - acc: 0.6843 - val_loss: 1.0309 - val_fbeta: 0.5541 - val_acc: 0.6311 - lr: 0.0010\n",
      "Epoch 23/200\n",
      "898/897 [==============================] - ETA: 0s - loss: 0.8277 - fbeta: 0.5822 - acc: 0.6923\n",
      "Epoch 23: saving model to ../opt/fer-cnn\\Model.23-0.6057.hdf5\n",
      "\n",
      "Epoch 23: saving model to ../opt/fer-cnn\\Model.23-0.6057.hdf5\n",
      "897/897 [==============================] - 479s 534ms/step - loss: 0.8277 - fbeta: 0.5822 - acc: 0.6923 - val_loss: 1.1027 - val_fbeta: 0.5132 - val_acc: 0.6057 - lr: 0.0010\n",
      "Epoch 24/200\n",
      "898/897 [==============================] - ETA: 0s - loss: 0.8051 - fbeta: 0.5976 - acc: 0.7008\n",
      "Epoch 24: saving model to ../opt/fer-cnn\\Model.24-0.6166.hdf5\n",
      "\n",
      "Epoch 24: saving model to ../opt/fer-cnn\\Model.24-0.6166.hdf5\n",
      "897/897 [==============================] - 484s 539ms/step - loss: 0.8051 - fbeta: 0.5976 - acc: 0.7008 - val_loss: 1.0693 - val_fbeta: 0.5227 - val_acc: 0.6166 - lr: 0.0010\n",
      "Epoch 25/200\n",
      "898/897 [==============================] - ETA: 0s - loss: 0.7928 - fbeta: 0.6024 - acc: 0.7036\n",
      "Epoch 25: saving model to ../opt/fer-cnn\\Model.25-0.6280.hdf5\n",
      "\n",
      "Epoch 25: saving model to ../opt/fer-cnn\\Model.25-0.6280.hdf5\n",
      "897/897 [==============================] - 452s 504ms/step - loss: 0.7928 - fbeta: 0.6024 - acc: 0.7036 - val_loss: 1.0300 - val_fbeta: 0.5426 - val_acc: 0.6280 - lr: 0.0010\n",
      "Epoch 26/200\n",
      "898/897 [==============================] - ETA: 0s - loss: 0.7798 - fbeta: 0.6118 - acc: 0.7075\n",
      "Epoch 26: saving model to ../opt/fer-cnn\\Model.26-0.6389.hdf5\n",
      "\n",
      "Epoch 26: saving model to ../opt/fer-cnn\\Model.26-0.6389.hdf5\n",
      "897/897 [==============================] - 418s 466ms/step - loss: 0.7798 - fbeta: 0.6118 - acc: 0.7075 - val_loss: 1.0247 - val_fbeta: 0.5357 - val_acc: 0.6389 - lr: 0.0010\n",
      "Epoch 27/200\n",
      "898/897 [==============================] - ETA: 0s - loss: 0.7645 - fbeta: 0.6211 - acc: 0.7172\n",
      "Epoch 27: saving model to ../opt/fer-cnn\\Model.27-0.6222.hdf5\n",
      "\n",
      "Epoch 27: saving model to ../opt/fer-cnn\\Model.27-0.6222.hdf5\n",
      "897/897 [==============================] - 430s 480ms/step - loss: 0.7645 - fbeta: 0.6211 - acc: 0.7172 - val_loss: 1.0804 - val_fbeta: 0.5407 - val_acc: 0.6222 - lr: 0.0010\n",
      "Epoch 28/200\n",
      "898/897 [==============================] - ETA: 0s - loss: 0.7481 - fbeta: 0.6301 - acc: 0.7235\n",
      "Epoch 28: saving model to ../opt/fer-cnn\\Model.28-0.6353.hdf5\n",
      "\n",
      "Epoch 28: saving model to ../opt/fer-cnn\\Model.28-0.6353.hdf5\n",
      "897/897 [==============================] - 428s 477ms/step - loss: 0.7481 - fbeta: 0.6301 - acc: 0.7235 - val_loss: 1.0375 - val_fbeta: 0.5452 - val_acc: 0.6353 - lr: 0.0010\n",
      "Epoch 29/200\n",
      "898/897 [==============================] - ETA: 0s - loss: 0.7341 - fbeta: 0.6374 - acc: 0.7257\n",
      "Epoch 29: saving model to ../opt/fer-cnn\\Model.29-0.6344.hdf5\n",
      "\n",
      "Epoch 29: saving model to ../opt/fer-cnn\\Model.29-0.6344.hdf5\n",
      "897/897 [==============================] - 462s 514ms/step - loss: 0.7341 - fbeta: 0.6374 - acc: 0.7257 - val_loss: 1.0498 - val_fbeta: 0.5543 - val_acc: 0.6344 - lr: 0.0010\n",
      "Epoch 30/200\n",
      "898/897 [==============================] - ETA: 0s - loss: 0.6628 - fbeta: 0.6682 - acc: 0.7556\n",
      "Epoch 30: saving model to ../opt/fer-cnn\\Model.30-0.6506.hdf5\n",
      "\n",
      "Epoch 30: saving model to ../opt/fer-cnn\\Model.30-0.6506.hdf5\n",
      "897/897 [==============================] - 459s 512ms/step - loss: 0.6628 - fbeta: 0.6682 - acc: 0.7556 - val_loss: 0.9848 - val_fbeta: 0.5742 - val_acc: 0.6506 - lr: 1.0000e-04\n",
      "Epoch 31/200\n",
      "898/897 [==============================] - ETA: 0s - loss: 0.6419 - fbeta: 0.6809 - acc: 0.7639\n",
      "Epoch 31: saving model to ../opt/fer-cnn\\Model.31-0.6539.hdf5\n",
      "\n",
      "Epoch 31: saving model to ../opt/fer-cnn\\Model.31-0.6539.hdf5\n",
      "897/897 [==============================] - 522s 582ms/step - loss: 0.6419 - fbeta: 0.6809 - acc: 0.7639 - val_loss: 0.9921 - val_fbeta: 0.5793 - val_acc: 0.6539 - lr: 1.0000e-04\n",
      "Epoch 32/200\n",
      "898/897 [==============================] - ETA: 0s - loss: 0.6234 - fbeta: 0.6911 - acc: 0.7703\n",
      "Epoch 32: saving model to ../opt/fer-cnn\\Model.32-0.6587.hdf5\n",
      "\n",
      "Epoch 32: saving model to ../opt/fer-cnn\\Model.32-0.6587.hdf5\n",
      "897/897 [==============================] - 525s 585ms/step - loss: 0.6234 - fbeta: 0.6911 - acc: 0.7703 - val_loss: 0.9892 - val_fbeta: 0.5860 - val_acc: 0.6587 - lr: 1.0000e-04\n",
      "Epoch 33/200\n",
      "898/897 [==============================] - ETA: 0s - loss: 0.6195 - fbeta: 0.6953 - acc: 0.7711\n",
      "Epoch 33: saving model to ../opt/fer-cnn\\Model.33-0.6517.hdf5\n",
      "\n",
      "Epoch 33: saving model to ../opt/fer-cnn\\Model.33-0.6517.hdf5\n",
      "897/897 [==============================] - 527s 587ms/step - loss: 0.6195 - fbeta: 0.6953 - acc: 0.7711 - val_loss: 0.9931 - val_fbeta: 0.5867 - val_acc: 0.6517 - lr: 1.0000e-04\n",
      "Epoch 34/200\n",
      "898/897 [==============================] - ETA: 0s - loss: 0.6122 - fbeta: 0.6996 - acc: 0.7731\n",
      "Epoch 34: saving model to ../opt/fer-cnn\\Model.34-0.6512.hdf5\n",
      "\n",
      "Epoch 34: saving model to ../opt/fer-cnn\\Model.34-0.6512.hdf5\n",
      "897/897 [==============================] - 543s 605ms/step - loss: 0.6122 - fbeta: 0.6996 - acc: 0.7731 - val_loss: 1.0005 - val_fbeta: 0.5954 - val_acc: 0.6512 - lr: 1.0000e-04\n",
      "Epoch 35/200\n",
      "898/897 [==============================] - ETA: 0s - loss: 0.5999 - fbeta: 0.7079 - acc: 0.7812\n",
      "Epoch 35: saving model to ../opt/fer-cnn\\Model.35-0.6517.hdf5\n",
      "\n",
      "Epoch 35: saving model to ../opt/fer-cnn\\Model.35-0.6517.hdf5\n",
      "897/897 [==============================] - 542s 604ms/step - loss: 0.5999 - fbeta: 0.7079 - acc: 0.7812 - val_loss: 1.0042 - val_fbeta: 0.5899 - val_acc: 0.6517 - lr: 1.0000e-04\n",
      "Epoch 36/200\n",
      "898/897 [==============================] - ETA: 0s - loss: 0.6016 - fbeta: 0.7062 - acc: 0.7780\n",
      "Epoch 36: saving model to ../opt/fer-cnn\\Model.36-0.6634.hdf5\n",
      "\n",
      "Epoch 36: saving model to ../opt/fer-cnn\\Model.36-0.6634.hdf5\n",
      "897/897 [==============================] - 544s 607ms/step - loss: 0.6016 - fbeta: 0.7062 - acc: 0.7780 - val_loss: 0.9909 - val_fbeta: 0.5953 - val_acc: 0.6634 - lr: 1.0000e-04\n",
      "Epoch 37/200\n",
      "898/897 [==============================] - ETA: 0s - loss: 0.5881 - fbeta: 0.7125 - acc: 0.7821\n",
      "Epoch 37: saving model to ../opt/fer-cnn\\Model.37-0.6573.hdf5\n",
      "\n",
      "Epoch 37: saving model to ../opt/fer-cnn\\Model.37-0.6573.hdf5\n",
      "897/897 [==============================] - 545s 608ms/step - loss: 0.5881 - fbeta: 0.7125 - acc: 0.7821 - val_loss: 0.9973 - val_fbeta: 0.5976 - val_acc: 0.6573 - lr: 1.0000e-04\n",
      "Epoch 38/200\n",
      "898/897 [==============================] - ETA: 0s - loss: 0.5820 - fbeta: 0.7187 - acc: 0.7862\n",
      "Epoch 38: saving model to ../opt/fer-cnn\\Model.38-0.6612.hdf5\n",
      "\n",
      "Epoch 38: saving model to ../opt/fer-cnn\\Model.38-0.6612.hdf5\n",
      "897/897 [==============================] - 543s 605ms/step - loss: 0.5820 - fbeta: 0.7187 - acc: 0.7862 - val_loss: 1.0032 - val_fbeta: 0.5959 - val_acc: 0.6612 - lr: 1.0000e-04\n",
      "Epoch 39/200\n",
      "898/897 [==============================] - ETA: 0s - loss: 0.5791 - fbeta: 0.7201 - acc: 0.7865\n",
      "Epoch 39: saving model to ../opt/fer-cnn\\Model.39-0.6604.hdf5\n",
      "\n",
      "Epoch 39: saving model to ../opt/fer-cnn\\Model.39-0.6604.hdf5\n",
      "897/897 [==============================] - 545s 608ms/step - loss: 0.5791 - fbeta: 0.7201 - acc: 0.7865 - val_loss: 0.9966 - val_fbeta: 0.5956 - val_acc: 0.6604 - lr: 1.0000e-04\n",
      "Epoch 40/200\n",
      "898/897 [==============================] - ETA: 0s - loss: 0.5699 - fbeta: 0.7245 - acc: 0.7908\n",
      "Epoch 40: saving model to ../opt/fer-cnn\\Model.40-0.6556.hdf5\n",
      "\n",
      "Epoch 40: saving model to ../opt/fer-cnn\\Model.40-0.6556.hdf5\n",
      "897/897 [==============================] - 544s 606ms/step - loss: 0.5699 - fbeta: 0.7245 - acc: 0.7908 - val_loss: 0.9965 - val_fbeta: 0.5987 - val_acc: 0.6556 - lr: 1.0000e-04\n",
      "Epoch 41/200\n"
     ]
    },
    {
     "name": "stdout",
     "output_type": "stream",
     "text": [
      "898/897 [==============================] - ETA: 0s - loss: 0.5589 - fbeta: 0.7331 - acc: 0.7952\n",
      "Epoch 41: saving model to ../opt/fer-cnn\\Model.41-0.6590.hdf5\n",
      "\n",
      "Epoch 41: saving model to ../opt/fer-cnn\\Model.41-0.6590.hdf5\n",
      "897/897 [==============================] - 483s 538ms/step - loss: 0.5589 - fbeta: 0.7331 - acc: 0.7952 - val_loss: 1.0031 - val_fbeta: 0.6015 - val_acc: 0.6590 - lr: 1.0000e-05\n",
      "Epoch 42/200\n",
      "898/897 [==============================] - ETA: 0s - loss: 0.5686 - fbeta: 0.7281 - acc: 0.7919\n",
      "Epoch 42: saving model to ../opt/fer-cnn\\Model.42-0.6548.hdf5\n",
      "\n",
      "Epoch 42: saving model to ../opt/fer-cnn\\Model.42-0.6548.hdf5\n",
      "897/897 [==============================] - 455s 507ms/step - loss: 0.5686 - fbeta: 0.7281 - acc: 0.7919 - val_loss: 1.0102 - val_fbeta: 0.5998 - val_acc: 0.6548 - lr: 1.0000e-05\n",
      "Epoch 43/200\n",
      "898/897 [==============================] - ETA: 0s - loss: 0.5664 - fbeta: 0.7257 - acc: 0.7925\n",
      "Epoch 43: saving model to ../opt/fer-cnn\\Model.43-0.6584.hdf5\n",
      "\n",
      "Epoch 43: saving model to ../opt/fer-cnn\\Model.43-0.6584.hdf5\n",
      "897/897 [==============================] - 433s 483ms/step - loss: 0.5664 - fbeta: 0.7257 - acc: 0.7925 - val_loss: 1.0061 - val_fbeta: 0.6008 - val_acc: 0.6584 - lr: 1.0000e-05\n",
      "Epoch 44/200\n",
      "898/897 [==============================] - ETA: 0s - loss: 0.5567 - fbeta: 0.7341 - acc: 0.7937\n",
      "Epoch 44: saving model to ../opt/fer-cnn\\Model.44-0.6537.hdf5\n",
      "\n",
      "Epoch 44: saving model to ../opt/fer-cnn\\Model.44-0.6537.hdf5\n",
      "897/897 [==============================] - 467s 520ms/step - loss: 0.5567 - fbeta: 0.7341 - acc: 0.7937 - val_loss: 1.0080 - val_fbeta: 0.5960 - val_acc: 0.6537 - lr: 1.0000e-05\n",
      "Epoch 45/200\n",
      "898/897 [==============================] - ETA: 0s - loss: 0.5611 - fbeta: 0.7290 - acc: 0.7937\n",
      "Epoch 45: saving model to ../opt/fer-cnn\\Model.45-0.6615.hdf5\n",
      "\n",
      "Epoch 45: saving model to ../opt/fer-cnn\\Model.45-0.6615.hdf5\n",
      "897/897 [==============================] - 473s 527ms/step - loss: 0.5611 - fbeta: 0.7290 - acc: 0.7937 - val_loss: 1.0054 - val_fbeta: 0.6038 - val_acc: 0.6615 - lr: 1.0000e-05\n",
      "Epoch 46/200\n",
      "898/897 [==============================] - ETA: 0s - loss: 0.5608 - fbeta: 0.7303 - acc: 0.7929\n",
      "Epoch 46: saving model to ../opt/fer-cnn\\Model.46-0.6612.hdf5\n",
      "\n",
      "Epoch 46: saving model to ../opt/fer-cnn\\Model.46-0.6612.hdf5\n",
      "897/897 [==============================] - 470s 524ms/step - loss: 0.5608 - fbeta: 0.7303 - acc: 0.7929 - val_loss: 1.0028 - val_fbeta: 0.6021 - val_acc: 0.6612 - lr: 1.0000e-05\n",
      "Epoch 47/200\n",
      "898/897 [==============================] - ETA: 0s - loss: 0.5562 - fbeta: 0.7330 - acc: 0.7957\n",
      "Epoch 47: saving model to ../opt/fer-cnn\\Model.47-0.6612.hdf5\n",
      "\n",
      "Epoch 47: saving model to ../opt/fer-cnn\\Model.47-0.6612.hdf5\n",
      "897/897 [==============================] - 471s 525ms/step - loss: 0.5562 - fbeta: 0.7330 - acc: 0.7957 - val_loss: 1.0059 - val_fbeta: 0.6002 - val_acc: 0.6612 - lr: 1.0000e-05\n",
      "Epoch 48/200\n",
      "898/897 [==============================] - ETA: 0s - loss: 0.5541 - fbeta: 0.7322 - acc: 0.7956\n",
      "Epoch 48: saving model to ../opt/fer-cnn\\Model.48-0.6562.hdf5\n",
      "\n",
      "Epoch 48: saving model to ../opt/fer-cnn\\Model.48-0.6562.hdf5\n",
      "897/897 [==============================] - 471s 525ms/step - loss: 0.5541 - fbeta: 0.7322 - acc: 0.7956 - val_loss: 1.0033 - val_fbeta: 0.5942 - val_acc: 0.6562 - lr: 1.0000e-05\n",
      "Epoch 49/200\n",
      "898/897 [==============================] - ETA: 0s - loss: 0.5631 - fbeta: 0.7295 - acc: 0.7925\n",
      "Epoch 49: saving model to ../opt/fer-cnn\\Model.49-0.6601.hdf5\n",
      "\n",
      "Epoch 49: saving model to ../opt/fer-cnn\\Model.49-0.6601.hdf5\n",
      "897/897 [==============================] - 474s 529ms/step - loss: 0.5631 - fbeta: 0.7295 - acc: 0.7925 - val_loss: 1.0106 - val_fbeta: 0.6066 - val_acc: 0.6601 - lr: 1.0000e-05\n",
      "Epoch 50/200\n",
      "898/897 [==============================] - ETA: 0s - loss: 0.5558 - fbeta: 0.7338 - acc: 0.7976\n",
      "Epoch 50: saving model to ../opt/fer-cnn\\Model.50-0.6592.hdf5\n",
      "\n",
      "Epoch 50: saving model to ../opt/fer-cnn\\Model.50-0.6592.hdf5\n",
      "897/897 [==============================] - 472s 526ms/step - loss: 0.5558 - fbeta: 0.7338 - acc: 0.7976 - val_loss: 1.0086 - val_fbeta: 0.5962 - val_acc: 0.6592 - lr: 1.0000e-05\n",
      "Epoch 51/200\n",
      "898/897 [==============================] - ETA: 0s - loss: 0.5526 - fbeta: 0.7329 - acc: 0.7938\n",
      "Epoch 51: saving model to ../opt/fer-cnn\\Model.51-0.6598.hdf5\n",
      "\n",
      "Epoch 51: saving model to ../opt/fer-cnn\\Model.51-0.6598.hdf5\n",
      "897/897 [==============================] - 475s 529ms/step - loss: 0.5526 - fbeta: 0.7329 - acc: 0.7938 - val_loss: 1.0083 - val_fbeta: 0.6021 - val_acc: 0.6598 - lr: 1.0000e-06\n",
      "Epoch 52/200\n",
      "898/897 [==============================] - ETA: 0s - loss: 0.5527 - fbeta: 0.7347 - acc: 0.7971\n",
      "Epoch 52: saving model to ../opt/fer-cnn\\Model.52-0.6609.hdf5\n",
      "\n",
      "Epoch 52: saving model to ../opt/fer-cnn\\Model.52-0.6609.hdf5\n",
      "897/897 [==============================] - 464s 518ms/step - loss: 0.5527 - fbeta: 0.7347 - acc: 0.7971 - val_loss: 1.0082 - val_fbeta: 0.6003 - val_acc: 0.6609 - lr: 1.0000e-06\n",
      "Epoch 53/200\n",
      "898/897 [==============================] - ETA: 0s - loss: 0.5585 - fbeta: 0.7322 - acc: 0.7940\n",
      "Epoch 53: saving model to ../opt/fer-cnn\\Model.53-0.6617.hdf5\n",
      "\n",
      "Epoch 53: saving model to ../opt/fer-cnn\\Model.53-0.6617.hdf5\n",
      "897/897 [==============================] - 467s 520ms/step - loss: 0.5585 - fbeta: 0.7322 - acc: 0.7940 - val_loss: 0.9933 - val_fbeta: 0.5983 - val_acc: 0.6617 - lr: 1.0000e-06\n",
      "Epoch 54/200\n",
      "898/897 [==============================] - ETA: 0s - loss: 0.5550 - fbeta: 0.7353 - acc: 0.7987\n",
      "Epoch 54: saving model to ../opt/fer-cnn\\Model.54-0.6640.hdf5\n",
      "\n",
      "Epoch 54: saving model to ../opt/fer-cnn\\Model.54-0.6640.hdf5\n",
      "897/897 [==============================] - 466s 520ms/step - loss: 0.5550 - fbeta: 0.7353 - acc: 0.7987 - val_loss: 1.0054 - val_fbeta: 0.6039 - val_acc: 0.6640 - lr: 1.0000e-06\n",
      "Epoch 55/200\n",
      "898/897 [==============================] - ETA: 0s - loss: 0.5639 - fbeta: 0.7285 - acc: 0.7918\n",
      "Epoch 55: saving model to ../opt/fer-cnn\\Model.55-0.6590.hdf5\n",
      "\n",
      "Epoch 55: saving model to ../opt/fer-cnn\\Model.55-0.6590.hdf5\n",
      "897/897 [==============================] - 465s 518ms/step - loss: 0.5639 - fbeta: 0.7285 - acc: 0.7918 - val_loss: 1.0053 - val_fbeta: 0.5992 - val_acc: 0.6590 - lr: 1.0000e-06\n",
      "Epoch 56/200\n",
      "898/897 [==============================] - ETA: 0s - loss: 0.5524 - fbeta: 0.7343 - acc: 0.7965\n",
      "Epoch 56: saving model to ../opt/fer-cnn\\Model.56-0.6576.hdf5\n",
      "\n",
      "Epoch 56: saving model to ../opt/fer-cnn\\Model.56-0.6576.hdf5\n",
      "897/897 [==============================] - 461s 514ms/step - loss: 0.5524 - fbeta: 0.7343 - acc: 0.7965 - val_loss: 1.0068 - val_fbeta: 0.5973 - val_acc: 0.6576 - lr: 1.0000e-06\n",
      "Epoch 57/200\n",
      "898/897 [==============================] - ETA: 0s - loss: 0.5569 - fbeta: 0.7309 - acc: 0.7936\n",
      "Epoch 57: saving model to ../opt/fer-cnn\\Model.57-0.6584.hdf5\n",
      "\n",
      "Epoch 57: saving model to ../opt/fer-cnn\\Model.57-0.6584.hdf5\n",
      "897/897 [==============================] - 462s 515ms/step - loss: 0.5569 - fbeta: 0.7309 - acc: 0.7936 - val_loss: 1.0050 - val_fbeta: 0.5991 - val_acc: 0.6584 - lr: 1.0000e-06\n",
      "Epoch 58/200\n",
      "898/897 [==============================] - ETA: 0s - loss: 0.5515 - fbeta: 0.7365 - acc: 0.7964\n",
      "Epoch 58: saving model to ../opt/fer-cnn\\Model.58-0.6584.hdf5\n",
      "\n",
      "Epoch 58: saving model to ../opt/fer-cnn\\Model.58-0.6584.hdf5\n",
      "897/897 [==============================] - 468s 522ms/step - loss: 0.5515 - fbeta: 0.7365 - acc: 0.7964 - val_loss: 1.0046 - val_fbeta: 0.6023 - val_acc: 0.6584 - lr: 1.0000e-06\n",
      "Epoch 59/200\n",
      "898/897 [==============================] - ETA: 0s - loss: 0.5487 - fbeta: 0.7338 - acc: 0.7955\n",
      "Epoch 59: saving model to ../opt/fer-cnn\\Model.59-0.6609.hdf5\n",
      "\n",
      "Epoch 59: saving model to ../opt/fer-cnn\\Model.59-0.6609.hdf5\n",
      "897/897 [==============================] - 461s 514ms/step - loss: 0.5487 - fbeta: 0.7338 - acc: 0.7955 - val_loss: 1.0058 - val_fbeta: 0.6001 - val_acc: 0.6609 - lr: 1.0000e-06\n",
      "Epoch 60/200\n",
      "898/897 [==============================] - ETA: 0s - loss: 0.5513 - fbeta: 0.7367 - acc: 0.7979\n",
      "Epoch 60: saving model to ../opt/fer-cnn\\Model.60-0.6601.hdf5\n",
      "\n",
      "Epoch 60: saving model to ../opt/fer-cnn\\Model.60-0.6601.hdf5\n",
      "897/897 [==============================] - 440s 491ms/step - loss: 0.5513 - fbeta: 0.7367 - acc: 0.7979 - val_loss: 1.0086 - val_fbeta: 0.6036 - val_acc: 0.6601 - lr: 1.0000e-06\n"
     ]
    },
    {
     "name": "stdout",
     "output_type": "stream",
     "text": [
      "Epoch 61/200\n",
      "898/897 [==============================] - ETA: 0s - loss: 0.5494 - fbeta: 0.7368 - acc: 0.7993\n",
      "Epoch 61: saving model to ../opt/fer-cnn\\Model.61-0.6578.hdf5\n",
      "\n",
      "Epoch 61: saving model to ../opt/fer-cnn\\Model.61-0.6578.hdf5\n",
      "897/897 [==============================] - 435s 485ms/step - loss: 0.5494 - fbeta: 0.7368 - acc: 0.7993 - val_loss: 1.0048 - val_fbeta: 0.6001 - val_acc: 0.6578 - lr: 1.0000e-07\n",
      "Epoch 62/200\n",
      "898/897 [==============================] - ETA: 0s - loss: 0.5500 - fbeta: 0.7359 - acc: 0.7985\n",
      "Epoch 62: saving model to ../opt/fer-cnn\\Model.62-0.6565.hdf5\n",
      "\n",
      "Epoch 62: saving model to ../opt/fer-cnn\\Model.62-0.6565.hdf5\n",
      "897/897 [==============================] - 440s 490ms/step - loss: 0.5500 - fbeta: 0.7359 - acc: 0.7985 - val_loss: 1.0047 - val_fbeta: 0.6010 - val_acc: 0.6565 - lr: 1.0000e-07\n",
      "Epoch 63/200\n",
      "898/897 [==============================] - ETA: 0s - loss: 0.5591 - fbeta: 0.7328 - acc: 0.7950\n",
      "Epoch 63: saving model to ../opt/fer-cnn\\Model.63-0.6578.hdf5\n",
      "\n",
      "Epoch 63: saving model to ../opt/fer-cnn\\Model.63-0.6578.hdf5\n",
      "897/897 [==============================] - 436s 486ms/step - loss: 0.5591 - fbeta: 0.7328 - acc: 0.7950 - val_loss: 1.0001 - val_fbeta: 0.6018 - val_acc: 0.6578 - lr: 1.0000e-07\n",
      "Epoch 64/200\n",
      "898/897 [==============================] - ETA: 0s - loss: 0.5574 - fbeta: 0.7328 - acc: 0.7947\n",
      "Epoch 64: saving model to ../opt/fer-cnn\\Model.64-0.6612.hdf5\n",
      "\n",
      "Epoch 64: saving model to ../opt/fer-cnn\\Model.64-0.6612.hdf5\n",
      "897/897 [==============================] - 441s 491ms/step - loss: 0.5574 - fbeta: 0.7328 - acc: 0.7947 - val_loss: 1.0057 - val_fbeta: 0.5957 - val_acc: 0.6612 - lr: 1.0000e-07\n",
      "Epoch 65/200\n",
      "898/897 [==============================] - ETA: 0s - loss: 0.5577 - fbeta: 0.7338 - acc: 0.7956\n",
      "Epoch 65: saving model to ../opt/fer-cnn\\Model.65-0.6629.hdf5\n",
      "\n",
      "Epoch 65: saving model to ../opt/fer-cnn\\Model.65-0.6629.hdf5\n",
      "897/897 [==============================] - 433s 483ms/step - loss: 0.5577 - fbeta: 0.7338 - acc: 0.7956 - val_loss: 1.0096 - val_fbeta: 0.5995 - val_acc: 0.6629 - lr: 1.0000e-07\n",
      "Epoch 66/200\n",
      "898/897 [==============================] - ETA: 0s - loss: 0.5532 - fbeta: 0.7344 - acc: 0.7976\n",
      "Epoch 66: saving model to ../opt/fer-cnn\\Model.66-0.6604.hdf5\n",
      "\n",
      "Epoch 66: saving model to ../opt/fer-cnn\\Model.66-0.6604.hdf5\n",
      "897/897 [==============================] - 437s 487ms/step - loss: 0.5532 - fbeta: 0.7344 - acc: 0.7976 - val_loss: 1.0145 - val_fbeta: 0.5994 - val_acc: 0.6604 - lr: 1.0000e-07\n",
      "Epoch 67/200\n",
      "898/897 [==============================] - ETA: 0s - loss: 0.5518 - fbeta: 0.7371 - acc: 0.8001\n",
      "Epoch 67: saving model to ../opt/fer-cnn\\Model.67-0.6620.hdf5\n",
      "\n",
      "Epoch 67: saving model to ../opt/fer-cnn\\Model.67-0.6620.hdf5\n",
      "897/897 [==============================] - 442s 493ms/step - loss: 0.5518 - fbeta: 0.7371 - acc: 0.8001 - val_loss: 1.0007 - val_fbeta: 0.6001 - val_acc: 0.6620 - lr: 1.0000e-07\n",
      "Epoch 68/200\n",
      "898/897 [==============================] - ETA: 0s - loss: 0.5539 - fbeta: 0.7324 - acc: 0.7956\n",
      "Epoch 68: saving model to ../opt/fer-cnn\\Model.68-0.6559.hdf5\n",
      "\n",
      "Epoch 68: saving model to ../opt/fer-cnn\\Model.68-0.6559.hdf5\n",
      "897/897 [==============================] - 434s 484ms/step - loss: 0.5539 - fbeta: 0.7324 - acc: 0.7956 - val_loss: 1.0132 - val_fbeta: 0.6003 - val_acc: 0.6559 - lr: 1.0000e-07\n",
      "Epoch 69/200\n",
      "898/897 [==============================] - ETA: 0s - loss: 0.5527 - fbeta: 0.7347 - acc: 0.7990\n",
      "Epoch 69: saving model to ../opt/fer-cnn\\Model.69-0.6587.hdf5\n",
      "\n",
      "Epoch 69: saving model to ../opt/fer-cnn\\Model.69-0.6587.hdf5\n",
      "897/897 [==============================] - 430s 479ms/step - loss: 0.5527 - fbeta: 0.7347 - acc: 0.7990 - val_loss: 1.0046 - val_fbeta: 0.6017 - val_acc: 0.6587 - lr: 1.0000e-07\n",
      "Epoch 70/200\n",
      "898/897 [==============================] - ETA: 0s - loss: 0.5591 - fbeta: 0.7307 - acc: 0.7937\n",
      "Epoch 70: saving model to ../opt/fer-cnn\\Model.70-0.6623.hdf5\n",
      "\n",
      "Epoch 70: saving model to ../opt/fer-cnn\\Model.70-0.6623.hdf5\n",
      "897/897 [==============================] - 530s 591ms/step - loss: 0.5591 - fbeta: 0.7307 - acc: 0.7937 - val_loss: 1.0044 - val_fbeta: 0.5950 - val_acc: 0.6623 - lr: 1.0000e-07\n",
      "Epoch 71/200\n",
      "898/897 [==============================] - ETA: 0s - loss: 0.5544 - fbeta: 0.7327 - acc: 0.7927\n",
      "Epoch 71: saving model to ../opt/fer-cnn\\Model.71-0.6601.hdf5\n",
      "\n",
      "Epoch 71: saving model to ../opt/fer-cnn\\Model.71-0.6601.hdf5\n",
      "897/897 [==============================] - 546s 608ms/step - loss: 0.5544 - fbeta: 0.7327 - acc: 0.7927 - val_loss: 1.0008 - val_fbeta: 0.6066 - val_acc: 0.6601 - lr: 1.0000e-08\n",
      "Epoch 72/200\n",
      "898/897 [==============================] - ETA: 0s - loss: 0.5562 - fbeta: 0.7324 - acc: 0.7968\n",
      "Epoch 72: saving model to ../opt/fer-cnn\\Model.72-0.6634.hdf5\n",
      "\n",
      "Epoch 72: saving model to ../opt/fer-cnn\\Model.72-0.6634.hdf5\n",
      "897/897 [==============================] - 544s 607ms/step - loss: 0.5562 - fbeta: 0.7324 - acc: 0.7968 - val_loss: 1.0066 - val_fbeta: 0.6046 - val_acc: 0.6634 - lr: 1.0000e-08\n",
      "Epoch 73/200\n",
      "898/897 [==============================] - ETA: 0s - loss: 0.5531 - fbeta: 0.7352 - acc: 0.7977\n",
      "Epoch 73: saving model to ../opt/fer-cnn\\Model.73-0.6562.hdf5\n",
      "\n",
      "Epoch 73: saving model to ../opt/fer-cnn\\Model.73-0.6562.hdf5\n",
      "897/897 [==============================] - 548s 610ms/step - loss: 0.5531 - fbeta: 0.7352 - acc: 0.7977 - val_loss: 1.0139 - val_fbeta: 0.5992 - val_acc: 0.6562 - lr: 1.0000e-08\n",
      "Epoch 74/200\n",
      "898/897 [==============================] - ETA: 0s - loss: 0.5545 - fbeta: 0.7353 - acc: 0.7994\n",
      "Epoch 74: saving model to ../opt/fer-cnn\\Model.74-0.6656.hdf5\n",
      "\n",
      "Epoch 74: saving model to ../opt/fer-cnn\\Model.74-0.6656.hdf5\n",
      "897/897 [==============================] - 549s 612ms/step - loss: 0.5545 - fbeta: 0.7353 - acc: 0.7994 - val_loss: 1.0012 - val_fbeta: 0.6054 - val_acc: 0.6656 - lr: 1.0000e-08\n",
      "Epoch 75/200\n",
      "898/897 [==============================] - ETA: 0s - loss: 0.5597 - fbeta: 0.7345 - acc: 0.7966\n",
      "Epoch 75: saving model to ../opt/fer-cnn\\Model.75-0.6595.hdf5\n",
      "\n",
      "Epoch 75: saving model to ../opt/fer-cnn\\Model.75-0.6595.hdf5\n",
      "897/897 [==============================] - 547s 610ms/step - loss: 0.5597 - fbeta: 0.7345 - acc: 0.7966 - val_loss: 1.0089 - val_fbeta: 0.6014 - val_acc: 0.6595 - lr: 1.0000e-08\n",
      "Epoch 76/200\n",
      "898/897 [==============================] - ETA: 0s - loss: 0.5572 - fbeta: 0.7345 - acc: 0.7947\n",
      "Epoch 76: saving model to ../opt/fer-cnn\\Model.76-0.6559.hdf5\n",
      "\n",
      "Epoch 76: saving model to ../opt/fer-cnn\\Model.76-0.6559.hdf5\n",
      "897/897 [==============================] - 545s 608ms/step - loss: 0.5572 - fbeta: 0.7345 - acc: 0.7947 - val_loss: 1.0054 - val_fbeta: 0.6000 - val_acc: 0.6559 - lr: 1.0000e-08\n",
      "Epoch 77/200\n",
      "898/897 [==============================] - ETA: 0s - loss: 0.5579 - fbeta: 0.7341 - acc: 0.7957\n",
      "Epoch 77: saving model to ../opt/fer-cnn\\Model.77-0.6556.hdf5\n",
      "\n",
      "Epoch 77: saving model to ../opt/fer-cnn\\Model.77-0.6556.hdf5\n",
      "897/897 [==============================] - 524s 584ms/step - loss: 0.5579 - fbeta: 0.7341 - acc: 0.7957 - val_loss: 1.0122 - val_fbeta: 0.5959 - val_acc: 0.6556 - lr: 1.0000e-08\n",
      "Epoch 78/200\n",
      "898/897 [==============================] - ETA: 0s - loss: 0.5552 - fbeta: 0.7311 - acc: 0.7966\n",
      "Epoch 78: saving model to ../opt/fer-cnn\\Model.78-0.6581.hdf5\n",
      "\n",
      "Epoch 78: saving model to ../opt/fer-cnn\\Model.78-0.6581.hdf5\n",
      "897/897 [==============================] - 639s 712ms/step - loss: 0.5552 - fbeta: 0.7311 - acc: 0.7966 - val_loss: 1.0054 - val_fbeta: 0.6007 - val_acc: 0.6581 - lr: 1.0000e-08\n",
      "Epoch 79/200\n",
      "898/897 [==============================] - ETA: 0s - loss: 0.5542 - fbeta: 0.7334 - acc: 0.7945\n",
      "Epoch 79: saving model to ../opt/fer-cnn\\Model.79-0.6604.hdf5\n",
      "\n",
      "Epoch 79: saving model to ../opt/fer-cnn\\Model.79-0.6604.hdf5\n",
      "897/897 [==============================] - 949s 1s/step - loss: 0.5542 - fbeta: 0.7334 - acc: 0.7945 - val_loss: 1.0114 - val_fbeta: 0.5980 - val_acc: 0.6604 - lr: 1.0000e-08\n",
      "Epoch 80/200\n",
      "898/897 [==============================] - ETA: 0s - loss: 0.5542 - fbeta: 0.7339 - acc: 0.7978\n",
      "Epoch 80: saving model to ../opt/fer-cnn\\Model.80-0.6553.hdf5\n",
      "\n",
      "Epoch 80: saving model to ../opt/fer-cnn\\Model.80-0.6553.hdf5\n",
      "897/897 [==============================] - 1002s 1s/step - loss: 0.5542 - fbeta: 0.7339 - acc: 0.7978 - val_loss: 1.0055 - val_fbeta: 0.5976 - val_acc: 0.6553 - lr: 1.0000e-08\n"
     ]
    },
    {
     "name": "stdout",
     "output_type": "stream",
     "text": [
      "Epoch 81/200\n",
      " 20/897 [..............................] - ETA: 15:28 - loss: 0.5033 - fbeta: 0.7688 - acc: 0.8359"
     ]
    }
   ],
   "source": [
    "history_public,history_private,cnn_model = train_cnn_model(cnn_model)"
   ]
  },
  {
   "cell_type": "code",
   "execution_count": null,
   "metadata": {},
   "outputs": [],
   "source": [
    "def eval_model_public(history,model):\n",
    "    batch_size=32\n",
    "    score=model.evaluate(X_test_public,Y_test_public,steps=(int)(len(X_test_public)/batch_size))\n",
    "    print('Evaluation loss:',score[0])\n",
    "    print('Evaluation accuracy:',score[1])\n",
    "                        \n",
    "    plt.plot(history.history['acc'],color='b',label='Training')\n",
    "    plt.plot(history.history['val_acc'],color='g',label='Validation')\n",
    "    plt.title('Accuracy')\n",
    "    plt.ylabel('accuracy')\n",
    "    plt.xlabel('epoch')\n",
    "    plt.legend(loc='upper left')\n",
    "    plt.show()\n",
    "                         \n",
    "    plt.plot(history.history['loss'],color='b',label='Training')\n",
    "    plt.plot(history.history['val_loss'],color='g',label='Validation')\n",
    "    plt.title('model loss')\n",
    "    plt.ylabel('loss')\n",
    "    plt.xlabel('epoch')\n",
    "    plt.legend(loc='lower left')\n",
    "    plt.show()\n",
    "                         \n",
    "    y_pred=model.predict_classes(X_test_public)\n",
    "    y_true=np.asarray([np.argmax(i) for i in Y_test_public])\n",
    "    \n",
    "    from sklearn.metrics import confusion_matrix\n",
    "    import seaborn as sns\n",
    "    \n",
    "    cm=confusion_matrix(y_true,y_pred)\n",
    "    cm_normalised=cm.astype('float')/cm.sum(axis=1)[:,np.newaxis]\n",
    "    sns.set(font_scale=1.5)\n",
    "    fig, ax = plt.subplots(figsize=(10,10))\n",
    "    ax=sns.heatmap(cm_normalised,\n",
    "                  annot=True,\n",
    "                  linewidths=0,\n",
    "                  square=False,\n",
    "                  cmap=\"Greens\",\n",
    "                  yticklabels=emotion_labels,\n",
    "                  xticklabels=emotion_labels,\n",
    "                  vmin=0,\n",
    "                  vmax=np.max(cm_normalised),\n",
    "                  fmt=\".2f\",\n",
    "                  annot_kws={\"size\":20})\n",
    "    ax.set(xlabel='Predicted label',ylabel='True label')"
   ]
  },
  {
   "cell_type": "code",
   "execution_count": null,
   "metadata": {},
   "outputs": [],
   "source": [
    "def eval_model_private(history,model):\n",
    "    batch_size=32\n",
    "    score=model.evaluate(X_test_private,Y_test_private,steps=(int)(len(X_test_private)/batch_size))\n",
    "    print('Evaluation loss:',score[0])\n",
    "    print('Evaluation accuracy:',score[1])\n",
    "                        \n",
    "    plt.plot(history.history['acc'],color='b',label='Training')\n",
    "    plt.plot(history.history['val_acc'],color='g',label='Validation')\n",
    "    plt.title('Accuracy')\n",
    "    plt.ylabel('accuracy')\n",
    "    plt.xlabel('epoch')\n",
    "    plt.legend(loc='upper left')\n",
    "    plt.show()\n",
    "                         \n",
    "    plt.plot(history.history['loss'],color='b',label='Training')\n",
    "    plt.plot(history.history['val_loss'],color='g',label='Validation')\n",
    "    plt.title('model loss')\n",
    "    plt.ylabel('loss')\n",
    "    plt.xlabel('epoch')\n",
    "    plt.legend(loc='lower left')\n",
    "    plt.show()\n",
    "    \n",
    "\n",
    "  "
   ]
  },
  {
   "cell_type": "code",
   "execution_count": null,
   "metadata": {
    "scrolled": true
   },
   "outputs": [],
   "source": [
    "eval_model_public(history_public, cnn_model)"
   ]
  },
  {
   "cell_type": "code",
   "execution_count": null,
   "metadata": {},
   "outputs": [],
   "source": [
    "eval_model_private(history_private, cnn_model)"
   ]
  },
  {
   "cell_type": "code",
   "execution_count": null,
   "metadata": {},
   "outputs": [],
   "source": []
  },
  {
   "cell_type": "code",
   "execution_count": null,
   "metadata": {},
   "outputs": [],
   "source": []
  },
  {
   "cell_type": "code",
   "execution_count": null,
   "metadata": {},
   "outputs": [],
   "source": []
  },
  {
   "cell_type": "code",
   "execution_count": null,
   "metadata": {},
   "outputs": [],
   "source": []
  }
 ],
 "metadata": {
  "kernelspec": {
   "display_name": "Python 3 (ipykernel)",
   "language": "python",
   "name": "python3"
  },
  "language_info": {
   "codemirror_mode": {
    "name": "ipython",
    "version": 3
   },
   "file_extension": ".py",
   "mimetype": "text/x-python",
   "name": "python",
   "nbconvert_exporter": "python",
   "pygments_lexer": "ipython3",
   "version": "3.9.12"
  }
 },
 "nbformat": 4,
 "nbformat_minor": 2
}
